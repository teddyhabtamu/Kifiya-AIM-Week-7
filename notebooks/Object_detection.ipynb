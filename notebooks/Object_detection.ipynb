{
 "cells": [
  {
   "cell_type": "markdown",
   "metadata": {},
   "source": [
    "## Preparing the Data"
   ]
  },
  {
   "cell_type": "code",
   "execution_count": null,
   "metadata": {},
   "outputs": [
    {
     "ename": "",
     "evalue": "",
     "output_type": "error",
     "traceback": [
      "\u001b[1;31mFailed to start the Kernel. \n",
      "\u001b[1;31mUnable to start Kernel '.venv (Python 3.10.12)' due to a timeout waiting for the ports to get used. \n",
      "\u001b[1;31mView Jupyter <a href='command:jupyter.viewOutput'>log</a> for further details."
     ]
    }
   ],
   "source": [
    "import os\n",
    "import cv2\n",
    "import torch\n",
    "import logging\n",
    "from telethon import TelegramClient\n",
    "\n",
    "# Configure logging\n",
    "logging.basicConfig(filename='yolo_detection.log', level=logging.INFO, format='%(asctime)s - %(message)s')\n",
    "\n",
    "# Use your own values from my.telegram.org\n",
    "api_id = '28822767'\n",
    "api_hash = '6b5b1a99af22f4c184d5a7acd8a7c27f'\n",
    "\n",
    "# Create the client and connect\n",
    "client = TelegramClient('session_name', api_id, api_hash)\n",
    "\n",
    "# Load YOLO model\n",
    "model = torch.hub.load('ultralytics/yolov5', 'yolov5s')\n",
    "\n",
    "async def download_images(channel, limit=10):\n",
    "    images = []\n",
    "    async for message in client.iter_messages(channel, limit=limit):\n",
    "        if message.photo:\n",
    "            photo = await message.download_media()\n",
    "            images.append(photo)\n",
    "    return images\n",
    "\n",
    "async def main():\n",
    "    channels = ['https://t.me/lobelia4cosmetics']\n",
    "    for channel in channels:\n",
    "        images = await download_images(channel)\n",
    "        for image_path in images:\n",
    "            img = cv2.imread(image_path)\n",
    "            results = model(img)\n",
    "            results.save()  # Save results to disk\n",
    "            logging.info(f\"Processed image: {image_path}\")\n",
    "\n",
    "with client:\n",
    "    client.loop.run_until_complete(main())"
   ]
  },
  {
   "cell_type": "markdown",
   "metadata": {},
   "source": [
    "## Processing the Detection Results"
   ]
  },
  {
   "cell_type": "code",
   "execution_count": null,
   "metadata": {},
   "outputs": [],
   "source": [
    "import sqlite3\n",
    "\n",
    "# Create database connection\n",
    "conn = sqlite3.connect('detection_data.db')\n",
    "c = conn.cursor()\n",
    "\n",
    "# Create table\n",
    "c.execute('''\n",
    "CREATE TABLE IF NOT EXISTS detections (\n",
    "    id INTEGER PRIMARY KEY,\n",
    "    image_path TEXT,\n",
    "    class_label TEXT,\n",
    "    confidence REAL,\n",
    "    bbox TEXT\n",
    ")\n",
    "''')\n",
    "\n",
    "async def main():\n",
    "    channels = ['https://t.me/lobelia4cosmetics']\n",
    "    for channel in channels:\n",
    "        images = await download_images(channel)\n",
    "        for image_path in images:\n",
    "            img = cv2.imread(image_path)\n",
    "            results = model(img)\n",
    "            for *box, conf, cls in results.xyxy[0]:\n",
    "                bbox = ','.join(map(str, box))\n",
    "                class_label = model.names[int(cls)]\n",
    "                c.execute('''\n",
    "                INSERT INTO detections (image_path, class_label, confidence, bbox)\n",
    "                VALUES (?, ?, ?, ?)\n",
    "                ''', (image_path, class_label, conf.item(), bbox))\n",
    "                conn.commit()\n",
    "            logging.info(f\"Processed image: {image_path}\")\n",
    "\n",
    "with client:\n",
    "    client.loop.run_until_complete(main())\n",
    "\n",
    "conn.close()"
   ]
  }
 ],
 "metadata": {
  "kernelspec": {
   "display_name": ".venv",
   "language": "python",
   "name": "python3"
  },
  "language_info": {
   "name": "python",
   "version": "3.10.12"
  }
 },
 "nbformat": 4,
 "nbformat_minor": 2
}
