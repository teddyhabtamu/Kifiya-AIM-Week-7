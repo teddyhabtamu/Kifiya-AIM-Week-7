{
 "cells": [
  {
   "cell_type": "markdown",
   "metadata": {},
   "source": [
    "## Telegram Scraping and Collection Pipeline"
   ]
  },
  {
   "cell_type": "code",
   "execution_count": 3,
   "metadata": {},
   "outputs": [
    {
     "name": "stdout",
     "output_type": "stream",
     "text": [
      "✅ Scraping completed. Data saved to 'scraped_data.json'.\n"
     ]
    }
   ],
   "source": [
    "import logging\n",
    "import json\n",
    "import nest_asyncio\n",
    "from telethon import TelegramClient\n",
    "from telethon.errors import SessionPasswordNeededError\n",
    "\n",
    "# Apply nest_asyncio to avoid event loop conflicts in Jupyter\n",
    "nest_asyncio.apply()\n",
    "\n",
    "# Configure logging\n",
    "logging.basicConfig(filename='scraping.log', level=logging.INFO, format='%(asctime)s - %(message)s')\n",
    "\n",
    "# Use your own values from my.telegram.org\n",
    "api_id = \"28822767\"  # Replace with your actual API ID\n",
    "api_hash = '6b5b1a99af22f4c184d5a7acd8a7c27f'  # Replace with your actual API Hash\n",
    "\n",
    "# Create the Telegram client\n",
    "client = TelegramClient('telegram_scrap', api_id, api_hash)\n",
    "\n",
    "# Connect to Telegram\n",
    "await client.connect()\n",
    "\n",
    "# Check if already authenticated\n",
    "if not await client.is_user_authorized():\n",
    "    phone_number = input(\"Enter your phone number (with country code): \")\n",
    "    await client.send_code_request(phone_number)\n",
    "    code = input(\"Enter the verification code you received: \")\n",
    "\n",
    "    try:\n",
    "        await client.sign_in(phone_number, code)\n",
    "    except SessionPasswordNeededError:\n",
    "        password = input(\"Enter your Telegram password: \")  # Two-step verification password\n",
    "        await client.sign_in(password=password)\n",
    "\n",
    "# List of channels to scrape\n",
    "channels = [\n",
    "    'https://t.me/DoctorsET',\n",
    "    'https://t.me/lobelia4cosmetics',\n",
    "    'https://t.me/yetenaweg',\n",
    "    'https://t.me/EAHCI'\n",
    "]\n",
    "\n",
    "# Store messages\n",
    "data = []\n",
    "\n",
    "# Iterate over messages in each channel\n",
    "for channel in channels:\n",
    "    async for message in client.iter_messages(channel):\n",
    "        raw_message = {\n",
    "            'channel': channel,\n",
    "            'message_id': message.id,\n",
    "            'date': str(message.date),\n",
    "            'sender_id': message.sender_id,\n",
    "            'message': message.text\n",
    "        }\n",
    "        data.append(raw_message)\n",
    "\n",
    "        # Log message\n",
    "        logging.info(f\"Message from {channel}: {message.text}\")\n",
    "\n",
    "# Save data to a JSON file\n",
    "with open('scraped_data.json', 'w', encoding='utf-8') as f:\n",
    "    json.dump(data, f, ensure_ascii=False, indent=4)\n",
    "\n",
    "print(\"✅ Scraping completed. Data saved to 'scraped_data.json'.\")\n",
    "\n",
    "# Disconnect the client after scraping\n",
    "await client.disconnect()\n"
   ]
  },
  {
   "cell_type": "code",
   "execution_count": null,
   "metadata": {},
   "outputs": [],
   "source": []
  }
 ],
 "metadata": {
  "kernelspec": {
   "display_name": ".venv",
   "language": "python",
   "name": "python3"
  },
  "language_info": {
   "codemirror_mode": {
    "name": "ipython",
    "version": 3
   },
   "file_extension": ".py",
   "mimetype": "text/x-python",
   "name": "python",
   "nbconvert_exporter": "python",
   "pygments_lexer": "ipython3",
   "version": "3.10.12"
  }
 },
 "nbformat": 4,
 "nbformat_minor": 2
}
