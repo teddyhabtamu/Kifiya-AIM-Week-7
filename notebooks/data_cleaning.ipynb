{
 "cells": [
  {
   "cell_type": "markdown",
   "metadata": {},
   "source": [
    "## Data Cleaning and Transformation"
   ]
  },
  {
   "cell_type": "markdown",
   "metadata": {},
   "source": [
    "* Data Cleaning"
   ]
  },
  {
   "cell_type": "code",
   "execution_count": 1,
   "metadata": {},
   "outputs": [
    {
     "name": "stderr",
     "output_type": "stream",
     "text": [
      "/tmp/ipykernel_20306/2769551473.py:14: FutureWarning: DataFrame.fillna with 'method' is deprecated and will raise in a future version. Use obj.ffill() or obj.bfill() instead.\n",
      "  data.fillna(method='ffill', inplace=True)\n"
     ]
    }
   ],
   "source": [
    "import pandas as pd\n",
    "import logging\n",
    "\n",
    "# Configure logging\n",
    "logging.basicConfig(filename='cleaning.log', level=logging.INFO, format='%(asctime)s - %(message)s')\n",
    "\n",
    "# Load raw data\n",
    "data = pd.read_json('scraped_data.json')\n",
    "\n",
    "# Remove duplicates\n",
    "data.drop_duplicates(inplace=True)\n",
    "\n",
    "# Handle missing values\n",
    "data.fillna(method='ffill', inplace=True)\n",
    "\n",
    "# Standardize formats (example: converting all text to lowercase)\n",
    "data['message'] = data['message'].str.lower()\n",
    "\n",
    "# Data validation (example: ensuring no empty messages)\n",
    "data = data[data['message'].str.strip() != '']\n",
    "\n",
    "# Save cleaned data\n",
    "data.to_json('cleaned_data.json', orient='records')\n",
    "\n",
    "logging.info('Data cleaning completed successfully.')"
   ]
  },
  {
   "cell_type": "markdown",
   "metadata": {},
   "source": [
    "* Store Cleaned Data"
   ]
  },
  {
   "cell_type": "code",
   "execution_count": 3,
   "metadata": {},
   "outputs": [],
   "source": [
    "import sqlite3\n",
    "\n",
    "# Connect to SQLite database\n",
    "conn = sqlite3.connect('telegramscrap.db')\n",
    "c = conn.cursor()\n",
    "\n",
    "# Create table\n",
    "c.execute('''\n",
    "CREATE TABLE IF NOT EXISTS messages (\n",
    "    id INTEGER PRIMARY KEY,\n",
    "    channel TEXT,\n",
    "    message TEXT\n",
    ")\n",
    "''')\n",
    "\n",
    "# Insert cleaned data\n",
    "data = pd.read_json('cleaned_data.json')\n",
    "data.to_sql('messages', conn, if_exists='replace', index=False)\n",
    "\n",
    "conn.commit()\n",
    "conn.close()\n",
    "\n",
    "logging.info('Cleaned data stored in database successfully.')"
   ]
  },
  {
   "cell_type": "code",
   "execution_count": null,
   "metadata": {},
   "outputs": [],
   "source": []
  }
 ],
 "metadata": {
  "kernelspec": {
   "display_name": ".venv",
   "language": "python",
   "name": "python3"
  },
  "language_info": {
   "codemirror_mode": {
    "name": "ipython",
    "version": 3
   },
   "file_extension": ".py",
   "mimetype": "text/x-python",
   "name": "python",
   "nbconvert_exporter": "python",
   "pygments_lexer": "ipython3",
   "version": "3.10.12"
  }
 },
 "nbformat": 4,
 "nbformat_minor": 2
}
